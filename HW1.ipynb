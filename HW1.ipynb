{
 "cells": [
  {
   "cell_type": "markdown",
   "id": "d997a0cf",
   "metadata": {},
   "source": [
    "# Методы сбора и обработки данных из сети Интернет\n",
    "## Урок 1. Основы клиент-серверного взаимодействия. Работа с API\n",
    "    1. Посмотреть документацию к API GitHub, разобраться как вывести список репозиториев для конкретного пользователя, сохранить JSON-вывод в файле *.json."
   ]
  },
  {
   "cell_type": "code",
   "execution_count": 34,
   "id": "2065266e",
   "metadata": {},
   "outputs": [],
   "source": [
    "import requests\n",
    "from pprint import pprint\n",
    "import json"
   ]
  },
  {
   "cell_type": "markdown",
   "id": "d23f76df",
   "metadata": {},
   "source": [
    "Из соображений защиты конфиденциальности - значение переменной github_token перед сохранением файла удалено без пересчёта остальных данных."
   ]
  },
  {
   "cell_type": "code",
   "execution_count": 35,
   "id": "f5f1a4a1",
   "metadata": {},
   "outputs": [],
   "source": [
    "github_token = '' #censured\n",
    "repo_owner = 'rustdesk'\n",
    "headers = {'Authorization': 'Token ' + github_token}\n",
    "url = f\"https://api.github.com/users/{repo_owner}/repos\""
   ]
  },
  {
   "cell_type": "code",
   "execution_count": 36,
   "id": "7bf0668d",
   "metadata": {},
   "outputs": [
    {
     "name": "stdout",
     "output_type": "stream",
     "text": [
      "['doc.rustdesk.com',\n",
      " 'hwcodec',\n",
      " 'impersonate-system',\n",
      " 'magnum-opus',\n",
      " 'rustdesk',\n",
      " 'rustdesk-server',\n",
      " 'rustdesk-server-demo',\n",
      " 'RustDeskIddDriver',\n",
      " 'rustdeskinstall',\n",
      " 'RustDeskTempTopMostWindow',\n",
      " 'rustdesk_desktop_multi_window',\n",
      " 'rustdesk_flutter_custom_cursor']\n"
     ]
    }
   ],
   "source": [
    "repos = requests.get(url, headers=headers).json()\n",
    "with open('HW1_repos.json', 'w') as json_file:\n",
    "    json.dump(repos, json_file)\n",
    "repos_list = []\n",
    "for repo in repos:\n",
    "    repos_list.append(repo['name'])\n",
    "pprint(repos_list)"
   ]
  },
  {
   "cell_type": "markdown",
   "id": "89bcf169",
   "metadata": {},
   "source": [
    "    2. Изучить список открытых API (https://www.programmableweb.com/category/all/apis). Найти среди них любое, требующее авторизацию (любого типа). Выполнить запросы к нему, пройдя авторизацию. Ответ сервера записать в файл.\n",
    "    Если нет желания заморачиваться с поиском, возьмите API вконтакте (https://vk.com/dev/first_guide). Сделайте запрос, чтобы получить список всех сообществ на которые вы подписаны.\n",
    "\n",
    "\n",
    "Ввиду того, что проект \"programmableweb\" завершил свою работу начиная с 2023 года (по заявлению организаторов - в связи с тем, что выполнил свое предназначение), воспользуемся API ВКонтакте. Из соображений защиты конфиденциальности - значения переменных my_id и user_key перед сохранением файла удалены без пересчёта остальных данных."
   ]
  },
  {
   "cell_type": "code",
   "execution_count": 37,
   "id": "ab3b2104",
   "metadata": {},
   "outputs": [],
   "source": [
    "my_id = '' #censured\n",
    "user_key = '' #censured"
   ]
  },
  {
   "cell_type": "code",
   "execution_count": 38,
   "id": "05866749",
   "metadata": {},
   "outputs": [],
   "source": [
    "url = 'https://api.vk.com/method/groups.get'\n",
    "groups_params = {'extended':1, 'user_id': my_id, 'access_token': user_key, 'v': 5.131}\n",
    "response = requests.get(url, params=groups_params)"
   ]
  },
  {
   "cell_type": "code",
   "execution_count": 39,
   "id": "d8c4d5cb",
   "metadata": {},
   "outputs": [
    {
     "name": "stdout",
     "output_type": "stream",
     "text": [
      "['РБК',\n",
      " 'DTF',\n",
      " 'РИА Новости',\n",
      " 'Dungeonsanddragons.ru\\\\Dungeons_ru - переводы D&D',\n",
      " 'Машинное обучение, AI, нейронные сети, Big Data',\n",
      " 'Strategium - все о стратегических играх',\n",
      " 'Журнал «Код»',\n",
      " 'AVATAR LEGENDS',\n",
      " 'Библиотека программиста',\n",
      " 'Data Science',\n",
      " 'Will&Reason [Воля и Разум] 4x',\n",
      " 'Dungeons & Dragons',\n",
      " 'НТР',\n",
      " 'Crusader Kings III Strategium',\n",
      " 'Миры Доминии — MtG Storyline',\n",
      " 'База Игроков в НРИ - Анкета для поиска игр',\n",
      " 'Академия Яндекса',\n",
      " 'Victoria 3 Strategium',\n",
      " 'Dungeons & Dragons Библиотека на краю мира',\n",
      " 'Вторая Редакция',\n",
      " 'DMsGuild на русском',\n",
      " 'Яндекс Практикум',\n",
      " 'Pornmap',\n",
      " 'machine learrrning',\n",
      " 'Stellaris Strategium',\n",
      " 'Paradox Interactive',\n",
      " 'Selectel',\n",
      " 'D&D Модно',\n",
      " 'Physics.Math.Code',\n",
      " 'Sid Meier’s Civilization VI Strategium',\n",
      " 'Роскосмос',\n",
      " 'Dungeons & Dragons',\n",
      " 'Skillbox: образовательная платформа',\n",
      " 'Orixenus',\n",
      " 'MiniMaxStudio',\n",
      " 'Мир Forgotten Realms',\n",
      " 'Настольные игры издательства Hobby World',\n",
      " 'Герои Метагейминга | D&D, Cthulhu, VtM | НРИ',\n",
      " 'LivingRoomStudio',\n",
      " 'Europa Universalis IV Strategium',\n",
      " 'Red Alert 2 For Fun',\n",
      " 'Плутовка Пэтти (Штуки для НРИ, 3D печать,покрас)',\n",
      " 'PCBWay',\n",
      " 'Ролевики: смешные случаи на играх',\n",
      " 'Киборги & Чародеи',\n",
      " 'Long Story Short',\n",
      " 'Hearts of Iron IV Strategium',\n",
      " 'Настольная цивилизация Сида Мейера /Civilization',\n",
      " 'МГТУ им Н.Э.Баумана. АК1 & АК2(2010-2016)',\n",
      " 'Открытый космос',\n",
      " 'GeekBrains',\n",
      " 'Deep Space',\n",
      " 'Барахолка настольных игр || БНИ',\n",
      " 'Dungeons & Dragons для всех!',\n",
      " 'Regular Paradox',\n",
      " 'Fantasy minis | Миниатюры и дайсы для ДнД',\n",
      " 'Космонавтика и все что рядом',\n",
      " 'Pathfinder на русском',\n",
      " 'D&D по-русски',\n",
      " 'GURPS',\n",
      " 'Cyberpunk 2020 | Cyberpunk RED',\n",
      " 'UMBUM Умная Бумага',\n",
      " 'SAU Forgе',\n",
      " 'GABRIGAME-WORKSHOP',\n",
      " 'D&D Adventurers League в России',\n",
      " 'Masta Demic',\n",
      " 'Студия фэнтези «PHantom»',\n",
      " 'Imperator: Rome Strategium',\n",
      " 'Cyberpunk RED и 2020 на русском языке',\n",
      " 'Переводы Warhammer 40k RPG',\n",
      " 'Mental Omega (мод для Red Alert 2: YR)',\n",
      " 'Спящая Мантикора (г. Королёв)',\n",
      " 'D&D RE:turn',\n",
      " 'Ведро Кубов | НРИ | D&D | Pathfinder 2',\n",
      " 'Red Alert: Last Dawn',\n",
      " 'Vyshegor Craft - миниатюры и террейн для D&D',\n",
      " 'Мифы и Легенды Без Кляпа',\n",
      " 'НРИ \"Starfinder\"',\n",
      " 'D&D в Великом Новгороде [Dungeons & Dragons]',\n",
      " 'Lancer на русском языке',\n",
      " 'Pathfinder Society 2e',\n",
      " 'NEON FULLPLATE']\n"
     ]
    }
   ],
   "source": [
    "group_list = []\n",
    "groups = response.json()['response']['items'][:39] + response.json()['response']['items'][40:-2]\n",
    "for group in groups:\n",
    "    group_list.append(group['name'])\n",
    "pprint(group_list)"
   ]
  },
  {
   "cell_type": "code",
   "execution_count": null,
   "id": "5cd615ac",
   "metadata": {},
   "outputs": [],
   "source": []
  }
 ],
 "metadata": {
  "kernelspec": {
   "display_name": "Python 3 (ipykernel)",
   "language": "python",
   "name": "python3"
  },
  "language_info": {
   "codemirror_mode": {
    "name": "ipython",
    "version": 3
   },
   "file_extension": ".py",
   "mimetype": "text/x-python",
   "name": "python",
   "nbconvert_exporter": "python",
   "pygments_lexer": "ipython3",
   "version": "3.9.13"
  }
 },
 "nbformat": 4,
 "nbformat_minor": 5
}
