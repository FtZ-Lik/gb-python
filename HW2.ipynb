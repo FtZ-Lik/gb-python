{
 "cells": [
  {
   "cell_type": "markdown",
   "id": "6e9562b8",
   "metadata": {},
   "source": [
    "# Методы сбора и обработки данных из сети Интернет\n",
    "## Урок 2. Парсинг данных. HTML, DOM, XPath\n",
    "\n",
    "\n",
    "Соберём основные новости с главной страницы сайта lenta.ru используя XPath. Создадим от лица браузера запрос на https://lenta.ru/, и преобразуем полученный в качестве текста html-код."
   ]
  },
  {
   "cell_type": "code",
   "execution_count": 1,
   "id": "3ce78e29",
   "metadata": {},
   "outputs": [],
   "source": [
    "from pprint import pprint\n",
    "from lxml import html\n",
    "import requests\n",
    "headers = {\"User-Agent\" : 'Mozilla/5.0 (X11; Ubuntu; Linux x86_64; rv:109.0) Gecko/20100101 Firefox/109.0'}\n",
    "req = requests.get('https://lenta.ru/', headers=headers)\n",
    "\n",
    "dom = html.fromstring(req.text)"
   ]
  },
  {
   "cell_type": "markdown",
   "id": "17ffc772",
   "metadata": {},
   "source": [
    "При помощи метода XPath найдем фрагменты кода, содержащие данные о статьях из раздела \"Главные новости\". Просмотром кода выяснилось, что данные новости находятся в \\<div> с классом \"last24\". Соберём заголовок и ссылку на статью и поместим их в словарь news."
   ]
  },
  {
   "cell_type": "code",
   "execution_count": 4,
   "id": "cb79d329",
   "metadata": {},
   "outputs": [
    {
     "name": "stdout",
     "output_type": "stream",
     "text": [
      "{'_Источник': 'https://lenta.ru/',\n",
      " 'В России за полгода сменили командующих четырех военных округов из пяти': 'https://lenta.ru/news/2023/02/17/voennye_okruga/',\n",
      " 'В Севастополе в районе ТЭС сбили беспилотник': 'https://lenta.ru/news/2023/02/17/bpla/',\n",
      " 'В посольстве России ответили на заявление Нуланд о Крыме': 'https://lenta.ru/news/2023/02/17/posolstvo_nuland/',\n",
      " 'Кибермошенники украли у россиянина рекордные полмиллиарда рублей': 'https://lenta.ru/news/2023/02/17/nemovv/',\n",
      " 'Минобороны отчиталось о ракетном ударе по военным предприятиям Украины': 'https://lenta.ru/news/2023/02/17/minobr/',\n",
      " 'Осужденный на 25 лет лидер банды «Приморских партизан» погиб в зоне СВО': 'https://lenta.ru/news/2023/02/17/kovtunn/',\n",
      " 'Украинский беспилотник атаковал аэропорт в российском городе': 'https://lenta.ru/news/2023/02/17/bplabryansk/',\n",
      " 'ФСБ предотвратила теракт в Калужской области и ликвидировала двух боевиков ИГ': 'https://lenta.ru/news/2023/02/17/fsbbb/'}\n"
     ]
    }
   ],
   "source": [
    "news = {'_Источник': req.url}\n",
    "news_list = dom.xpath('//div[contains(@class, \"last24\")]/a/div/span[contains(@class, \"card-mini__title\")]/text()')\n",
    "news_links = [req.url[:-1] + s for s in dom.xpath('//div[contains(@class, \"last24\")]/a/@href')]\n",
    "for i in range(len(news_list)):\n",
    "    news[news_list[i]] = news_links[i]\n",
    "pprint(news)"
   ]
  },
  {
   "cell_type": "code",
   "execution_count": null,
   "id": "ae8a3d5e",
   "metadata": {},
   "outputs": [],
   "source": []
  }
 ],
 "metadata": {
  "kernelspec": {
   "display_name": "Python 3 (ipykernel)",
   "language": "python",
   "name": "python3"
  },
  "language_info": {
   "codemirror_mode": {
    "name": "ipython",
    "version": 3
   },
   "file_extension": ".py",
   "mimetype": "text/x-python",
   "name": "python",
   "nbconvert_exporter": "python",
   "pygments_lexer": "ipython3",
   "version": "3.9.13"
  }
 },
 "nbformat": 4,
 "nbformat_minor": 5
}
